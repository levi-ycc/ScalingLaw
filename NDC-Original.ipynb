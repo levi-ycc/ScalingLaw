{
 "cells": [
  {
   "cell_type": "code",
   "execution_count": 1,
   "id": "5dadc9e1-c5ad-479a-80c6-09be7d471e25",
   "metadata": {},
   "outputs": [],
   "source": [
    "import pandas as pd\n",
    "import numpy as np\n",
    "import matplotlib.pyplot as plt\n",
    "import talib"
   ]
  },
  {
   "cell_type": "code",
   "execution_count": 2,
   "id": "9f12f8ee-7db9-453d-8dc5-f054a23c2ea0",
   "metadata": {},
   "outputs": [],
   "source": [
    "df = pd.read_csv('D:/EURUSD.csv', names=['Date', 'Time', 'Open', 'High', 'Low', 'Close', 'Volume'])"
   ]
  },
  {
   "cell_type": "code",
   "execution_count": 3,
   "id": "6165ea9c-c6aa-4a29-8623-8b6dd7886a11",
   "metadata": {},
   "outputs": [],
   "source": [
    "df.set_index(pd.to_datetime(df.Date+\" \"+df.Time), inplace=True)"
   ]
  },
  {
   "cell_type": "code",
   "execution_count": 4,
   "id": "72dd3c3a-2349-4994-aa45-6e73b0a4e7f5",
   "metadata": {},
   "outputs": [],
   "source": [
    "def priceMoveCount(x, dx):\n",
    "    nUP = nDown = 0\n",
    "    x_ext = x[0]\n",
    "    if dx<0: return\n",
    "    ret = np.array([[0,0]])\n",
    "    for i in range(1, x.shape[0]):\n",
    "        if (x[i]-x_ext) >= dx:\n",
    "            nUP+=1\n",
    "            x_ext = x[i]\n",
    "        elif (x[i]-x_ext) <= -dx:\n",
    "            nDown += 1\n",
    "            x_ext = x[i]\n",
    "        ret=np.append(ret,[[nUP,nDown]], axis=0)\n",
    "    return ret\n",
    "        "
   ]
  },
  {
   "cell_type": "code",
   "execution_count": 5,
   "id": "f8ee2a4a-7c36-4f78-b914-eef2af620316",
   "metadata": {},
   "outputs": [],
   "source": [
    "def directionalChangeCount(x, r):\n",
    "    nUP = nDown = 0\n",
    "    x_ext = x[0]\n",
    "    mode = 0\n",
    "    \n",
    "    ret =[[0,0,mode,r]]\n",
    "    for i in range(1, x.shape[0]):\n",
    "        if mode==1:\n",
    "            if x[i]<x_ext:\n",
    "                x_ext = x[i]\n",
    "            elif x[i]-x_ext >= r:\n",
    "                nUP += 1\n",
    "                x_ext = x[i]\n",
    "                mode = 0\n",
    "        elif mode==0:\n",
    "            if x[i]>x_ext:\n",
    "                x_ext = x[i]\n",
    "            elif x[i]-x_ext <= -r:\n",
    "                nDown += 1\n",
    "                x_ext = x[i]\n",
    "                mode = 1\n",
    "        ret = np.append(ret, [[nUP,nDown,mode,r]], axis=0)\n",
    "    return ret"
   ]
  },
  {
   "cell_type": "code",
   "execution_count": 6,
   "id": "b8f1de6a-30fd-47bf-a3c3-12d9f4b15c27",
   "metadata": {},
   "outputs": [],
   "source": [
    "raw = df.resample(\"60T\").agg({\"Open\":\"first\",\"High\":\"max\",\"Low\":\"min\",\"Close\":\"last\"}).copy()"
   ]
  },
  {
   "cell_type": "code",
   "execution_count": 7,
   "id": "f1ae980b-42df-4356-921c-295cb4e65251",
   "metadata": {},
   "outputs": [],
   "source": [
    "raw=raw.ffill()"
   ]
  },
  {
   "cell_type": "code",
   "execution_count": 8,
   "id": "4d5afb86-b77e-46e3-8989-b72e22ac432d",
   "metadata": {},
   "outputs": [],
   "source": [
    "raw.dropna(inplace=True)"
   ]
  },
  {
   "cell_type": "code",
   "execution_count": 9,
   "id": "a54d8161-1dc6-4119-87e5-ce35db21c389",
   "metadata": {},
   "outputs": [],
   "source": [
    "raw=raw.loc['2014-01-01':]"
   ]
  },
  {
   "cell_type": "code",
   "execution_count": 10,
   "id": "3e2a6d8c-0a42-4ffc-b83b-e085c4f64455",
   "metadata": {},
   "outputs": [],
   "source": [
    "raw=raw.iloc[-350*251:]"
   ]
  },
  {
   "cell_type": "code",
   "execution_count": 11,
   "id": "16ed6f5b-2e9d-40a1-ae7d-f7755f4f7a81",
   "metadata": {},
   "outputs": [],
   "source": [
    "ret=dict()\n",
    "new_df=dict()\n",
    "for r in np.linspace(0.001, 0.02, num=500):\n",
    "    ndc={}\n",
    "    ndc_list=[]\n",
    "    for n in range(1,int(raw.shape[0]/350)+1):\n",
    "        test_sample = raw.iloc[(n-1)*350:n*350]\n",
    "        res=directionalChangeCount(test_sample.Close.values, r)\n",
    "        ndc.update({n:res[-1][0]+res[-1][1]})\n",
    "        ndc_list.append(res[-1][0]+res[-1][1])\n",
    "    ret.update({r:{'avgndc': np.mean(ndc_list), 'NDC':ndc}})\n",
    "    # new_df.update({r:pd.DataFrame(res, columns=[\"UP\",\"DOWN\",\"MODE\",\"ATR\"])})"
   ]
  },
  {
   "cell_type": "code",
   "execution_count": 12,
   "id": "77aec72a-f634-497e-bf43-78cdffdee4d4",
   "metadata": {},
   "outputs": [],
   "source": [
    "vol=np.array([])\n",
    "\n",
    "group=np.array([])"
   ]
  },
  {
   "cell_type": "code",
   "execution_count": 13,
   "id": "f6365cef-c159-4e22-8ec2-b37dd364d93c",
   "metadata": {},
   "outputs": [],
   "source": [
    "for n in range(1,int(raw.shape[0]/350)+1):\n",
    "    test_sample = raw.iloc[(n-1)*350:n*350]\n",
    "    vol=np.concatenate([vol,np.repeat(np.sum(np.abs(np.diff(np.log(test_sample.Close))))/350,350)])\n",
    "    group=np.concatenate([group,np.repeat(n,350)])"
   ]
  },
  {
   "cell_type": "code",
   "execution_count": 14,
   "id": "09a8f32e-db9e-4f51-ba03-d728f9c1b2d7",
   "metadata": {},
   "outputs": [],
   "source": [
    "# raw=raw.iloc[:-(raw.shape[0]-vol.shape[0])]"
   ]
  },
  {
   "cell_type": "code",
   "execution_count": 15,
   "id": "3d70a820-4267-4fb5-a0b3-c1eae6a91abe",
   "metadata": {},
   "outputs": [],
   "source": [
    "raw['vol']=vol"
   ]
  },
  {
   "cell_type": "code",
   "execution_count": 16,
   "id": "4f9defb3-2703-490f-8e7e-9adf1209ae4e",
   "metadata": {},
   "outputs": [],
   "source": [
    "raw['group']=group"
   ]
  },
  {
   "cell_type": "code",
   "execution_count": 17,
   "id": "dd195467-7b12-4c1f-b6b9-7fe373ef4927",
   "metadata": {},
   "outputs": [],
   "source": [
    "x=list(ret.keys())"
   ]
  },
  {
   "cell_type": "code",
   "execution_count": 18,
   "id": "aafff32d-e2e3-450e-8d2e-546b33e5f773",
   "metadata": {},
   "outputs": [],
   "source": [
    "y=[np.log(ret[i]['avgndc']) for i in list(ret.keys())]"
   ]
  },
  {
   "cell_type": "code",
   "execution_count": 19,
   "id": "6c4e2825-2bef-4c19-97f8-7ad9c71e6b4c",
   "metadata": {},
   "outputs": [],
   "source": [
    "import statsmodels.api as sm"
   ]
  },
  {
   "cell_type": "code",
   "execution_count": 20,
   "id": "03132a6f-4652-40ad-865f-6585e3cb6c48",
   "metadata": {},
   "outputs": [],
   "source": [
    "x=np.log(np.array(x))\n",
    "# x=np.concatenate([[x],[np.power(x,2)]]).T\n",
    "x_1 = sm.add_constant(x)\n",
    "mod = sm.OLS(y, x_1)"
   ]
  },
  {
   "cell_type": "code",
   "execution_count": 21,
   "id": "ea745f06-4bcf-4637-b74e-e42ea4a14fd4",
   "metadata": {},
   "outputs": [
    {
     "data": {
      "text/html": [
       "<table class=\"simpletable\">\n",
       "<caption>OLS Regression Results</caption>\n",
       "<tr>\n",
       "  <th>Dep. Variable:</th>            <td>y</td>        <th>  R-squared:         </th> <td>   0.985</td> \n",
       "</tr>\n",
       "<tr>\n",
       "  <th>Model:</th>                   <td>OLS</td>       <th>  Adj. R-squared:    </th> <td>   0.985</td> \n",
       "</tr>\n",
       "<tr>\n",
       "  <th>Method:</th>             <td>Least Squares</td>  <th>  F-statistic:       </th> <td>3.228e+04</td>\n",
       "</tr>\n",
       "<tr>\n",
       "  <th>Date:</th>             <td>Sun, 11 Feb 2024</td> <th>  Prob (F-statistic):</th>  <td>  0.00</td>  \n",
       "</tr>\n",
       "<tr>\n",
       "  <th>Time:</th>                 <td>11:14:56</td>     <th>  Log-Likelihood:    </th> <td>  271.17</td> \n",
       "</tr>\n",
       "<tr>\n",
       "  <th>No. Observations:</th>      <td>   500</td>      <th>  AIC:               </th> <td>  -538.3</td> \n",
       "</tr>\n",
       "<tr>\n",
       "  <th>Df Residuals:</th>          <td>   498</td>      <th>  BIC:               </th> <td>  -529.9</td> \n",
       "</tr>\n",
       "<tr>\n",
       "  <th>Df Model:</th>              <td>     1</td>      <th>                     </th>     <td> </td>    \n",
       "</tr>\n",
       "<tr>\n",
       "  <th>Covariance Type:</th>      <td>nonrobust</td>    <th>                     </th>     <td> </td>    \n",
       "</tr>\n",
       "</table>\n",
       "<table class=\"simpletable\">\n",
       "<tr>\n",
       "    <td></td>       <th>coef</th>     <th>std err</th>      <th>t</th>      <th>P>|t|</th>  <th>[0.025</th>    <th>0.975]</th>  \n",
       "</tr>\n",
       "<tr>\n",
       "  <th>const</th> <td>   -6.7221</td> <td>    0.043</td> <td> -157.922</td> <td> 0.000</td> <td>   -6.806</td> <td>   -6.638</td>\n",
       "</tr>\n",
       "<tr>\n",
       "  <th>x1</th>    <td>   -1.5903</td> <td>    0.009</td> <td> -179.656</td> <td> 0.000</td> <td>   -1.608</td> <td>   -1.573</td>\n",
       "</tr>\n",
       "</table>\n",
       "<table class=\"simpletable\">\n",
       "<tr>\n",
       "  <th>Omnibus:</th>       <td>52.333</td> <th>  Durbin-Watson:     </th> <td>   0.002</td>\n",
       "</tr>\n",
       "<tr>\n",
       "  <th>Prob(Omnibus):</th> <td> 0.000</td> <th>  Jarque-Bera (JB):  </th> <td>  66.999</td>\n",
       "</tr>\n",
       "<tr>\n",
       "  <th>Skew:</th>          <td>-0.894</td> <th>  Prob(JB):          </th> <td>2.83e-15</td>\n",
       "</tr>\n",
       "<tr>\n",
       "  <th>Kurtosis:</th>      <td> 3.134</td> <th>  Cond. No.          </th> <td>    33.8</td>\n",
       "</tr>\n",
       "</table><br/><br/>Notes:<br/>[1] Standard Errors assume that the covariance matrix of the errors is correctly specified."
      ],
      "text/latex": [
       "\\begin{center}\n",
       "\\begin{tabular}{lclc}\n",
       "\\toprule\n",
       "\\textbf{Dep. Variable:}    &        y         & \\textbf{  R-squared:         } &     0.985   \\\\\n",
       "\\textbf{Model:}            &       OLS        & \\textbf{  Adj. R-squared:    } &     0.985   \\\\\n",
       "\\textbf{Method:}           &  Least Squares   & \\textbf{  F-statistic:       } & 3.228e+04   \\\\\n",
       "\\textbf{Date:}             & Sun, 11 Feb 2024 & \\textbf{  Prob (F-statistic):} &     0.00    \\\\\n",
       "\\textbf{Time:}             &     11:14:56     & \\textbf{  Log-Likelihood:    } &    271.17   \\\\\n",
       "\\textbf{No. Observations:} &         500      & \\textbf{  AIC:               } &    -538.3   \\\\\n",
       "\\textbf{Df Residuals:}     &         498      & \\textbf{  BIC:               } &    -529.9   \\\\\n",
       "\\textbf{Df Model:}         &           1      & \\textbf{                     } &             \\\\\n",
       "\\textbf{Covariance Type:}  &    nonrobust     & \\textbf{                     } &             \\\\\n",
       "\\bottomrule\n",
       "\\end{tabular}\n",
       "\\begin{tabular}{lcccccc}\n",
       "               & \\textbf{coef} & \\textbf{std err} & \\textbf{t} & \\textbf{P$> |$t$|$} & \\textbf{[0.025} & \\textbf{0.975]}  \\\\\n",
       "\\midrule\n",
       "\\textbf{const} &      -6.7221  &        0.043     &  -157.922  &         0.000        &       -6.806    &       -6.638     \\\\\n",
       "\\textbf{x1}    &      -1.5903  &        0.009     &  -179.656  &         0.000        &       -1.608    &       -1.573     \\\\\n",
       "\\bottomrule\n",
       "\\end{tabular}\n",
       "\\begin{tabular}{lclc}\n",
       "\\textbf{Omnibus:}       & 52.333 & \\textbf{  Durbin-Watson:     } &    0.002  \\\\\n",
       "\\textbf{Prob(Omnibus):} &  0.000 & \\textbf{  Jarque-Bera (JB):  } &   66.999  \\\\\n",
       "\\textbf{Skew:}          & -0.894 & \\textbf{  Prob(JB):          } & 2.83e-15  \\\\\n",
       "\\textbf{Kurtosis:}      &  3.134 & \\textbf{  Cond. No.          } &     33.8  \\\\\n",
       "\\bottomrule\n",
       "\\end{tabular}\n",
       "%\\caption{OLS Regression Results}\n",
       "\\end{center}\n",
       "\n",
       "Notes: \\newline\n",
       " [1] Standard Errors assume that the covariance matrix of the errors is correctly specified."
      ],
      "text/plain": [
       "<class 'statsmodels.iolib.summary.Summary'>\n",
       "\"\"\"\n",
       "                            OLS Regression Results                            \n",
       "==============================================================================\n",
       "Dep. Variable:                      y   R-squared:                       0.985\n",
       "Model:                            OLS   Adj. R-squared:                  0.985\n",
       "Method:                 Least Squares   F-statistic:                 3.228e+04\n",
       "Date:                Sun, 11 Feb 2024   Prob (F-statistic):               0.00\n",
       "Time:                        11:14:56   Log-Likelihood:                 271.17\n",
       "No. Observations:                 500   AIC:                            -538.3\n",
       "Df Residuals:                     498   BIC:                            -529.9\n",
       "Df Model:                           1                                         \n",
       "Covariance Type:            nonrobust                                         \n",
       "==============================================================================\n",
       "                 coef    std err          t      P>|t|      [0.025      0.975]\n",
       "------------------------------------------------------------------------------\n",
       "const         -6.7221      0.043   -157.922      0.000      -6.806      -6.638\n",
       "x1            -1.5903      0.009   -179.656      0.000      -1.608      -1.573\n",
       "==============================================================================\n",
       "Omnibus:                       52.333   Durbin-Watson:                   0.002\n",
       "Prob(Omnibus):                  0.000   Jarque-Bera (JB):               66.999\n",
       "Skew:                          -0.894   Prob(JB):                     2.83e-15\n",
       "Kurtosis:                       3.134   Cond. No.                         33.8\n",
       "==============================================================================\n",
       "\n",
       "Notes:\n",
       "[1] Standard Errors assume that the covariance matrix of the errors is correctly specified.\n",
       "\"\"\""
      ]
     },
     "execution_count": 21,
     "metadata": {},
     "output_type": "execute_result"
    }
   ],
   "source": [
    "res=mod.fit()\n",
    "res.summary()"
   ]
  },
  {
   "cell_type": "code",
   "execution_count": 22,
   "id": "564ff1cb-b1e3-4dbc-8f00-198e8c798571",
   "metadata": {},
   "outputs": [
    {
     "data": {
      "image/png": "[encoded data removed]",
      "text/plain": [
       "<Figure size 640x480 with 1 Axes>"
      ]
     },
     "metadata": {},
     "output_type": "display_data"
    }
   ],
   "source": [
    "plt.scatter(x, y)\n",
    "# x1= [np.log(i[0]) for i in x]\n",
    "slope_y = x*res.params[1]+res.params[0]\n",
    "# plt.scatter(x=[i[0] for i in x], y=slope_y)\n",
    "plt.plot(x, slope_y, color='red')\n",
    "plt.xlabel('LogThreshold')\n",
    "plt.ylabel('LogNDC')\n",
    "plt.savefig('THRES_NDC.png')"
   ]
  },
  {
   "cell_type": "code",
   "execution_count": 23,
   "id": "65f3ab96-7881-4405-a393-dd3e592cc6b8",
   "metadata": {},
   "outputs": [],
   "source": [
    "res.save(\"NDCThreshold_Original.pickle\")"
   ]
  },
  {
   "cell_type": "code",
   "execution_count": 24,
   "id": "49219b64-a32a-4302-a3d8-d566a196b33d",
   "metadata": {},
   "outputs": [],
   "source": [
    "keys = list(ret.keys())"
   ]
  },
  {
   "cell_type": "code",
   "execution_count": 25,
   "id": "f6f5946a-dadf-4545-b540-4b7b32926871",
   "metadata": {},
   "outputs": [
    {
     "name": "stderr",
     "output_type": "stream",
     "text": [
      "C:\\Users\\zekec\\AppData\\Local\\Temp\\ipykernel_9524\\1778888863.py:29: RuntimeWarning: Mean of empty slice.\n",
      "  values.append({'return':np.asarray(avg).mean(), 'vol':np.asarray(vol).mean(), 'seg':seg, 'ndc':ret[k]['avgndc'], 'sample_ndc':ndc})\n",
      "D:\\anaconda3\\envs\\quant\\lib\\site-packages\\numpy\\core\\_methods.py:129: RuntimeWarning: invalid value encountered in scalar divide\n",
      "  ret = ret.dtype.type(ret / rcount)\n",
      "C:\\Users\\zekec\\AppData\\Local\\Temp\\ipykernel_9524\\1778888863.py:13: RuntimeWarning: divide by zero encountered in scalar divide\n",
      "  seg=int(350/ndc)\n"
     ]
    }
   ],
   "source": [
    "avg_ret_list=[]\n",
    "avg_ret_dict={}\n",
    "for k in keys: \n",
    "    keyss=[]\n",
    "    values=[]\n",
    "    for i in list(ret[k]['NDC'].keys()):\n",
    "        avg=[]\n",
    "        vol=[]\n",
    "        ret_dict={}\n",
    "        ex=[]\n",
    "        ndc=ret[k]['NDC'][i]\n",
    "        try:\n",
    "            seg=int(350/ndc)\n",
    "        except OverflowError:\n",
    "            continue\n",
    "        length=int(round(350/seg,0))\n",
    "    \n",
    "        for j in range(1,length+1):\n",
    "            try:\n",
    "                xa=abs(np.log(raw.loc[raw.group==i].iloc[(j-1)*seg].Close)-np.log(raw.loc[raw.group==i].iloc[j*seg].Close))\n",
    "            except IndexError:\n",
    "                break\n",
    "            if xa==0 or vol==-np.inf:\n",
    "                continue\n",
    "            avg.extend([xa])\n",
    "        xv=raw.loc[raw.group==i].vol.mean()\n",
    "        vol.extend([xv])\n",
    "        keyss.append(i)\n",
    "        values.append({'return':np.asarray(avg).mean(), 'vol':np.asarray(vol).mean(), 'seg':seg, 'ndc':ret[k]['avgndc'], 'sample_ndc':ndc})\n",
    "        # ret_dict[i]={'return':np.asarray(avg).mean(), 'vol':np.asarray(vol).mean(), 'seg':seg, 'ndc':ret[k]['avgndc']}\n",
    "    avg_ret_list.append(dict(zip(keyss,values)))\n",
    "avg_ret_dict=dict(zip(keys, avg_ret_list))"
   ]
  },
  {
   "cell_type": "markdown",
   "id": "d96c0748-9a54-4047-9b03-394d7765dea8",
   "metadata": {},
   "source": [
    "# 1st Order"
   ]
  },
  {
   "cell_type": "code",
   "execution_count": 26,
   "id": "a1d1fcf4-b939-4041-ba2c-5786f622387b",
   "metadata": {},
   "outputs": [],
   "source": [
    "avgs=[]\n",
    "for k in list(avg_ret_dict.keys()):\n",
    "    x=np.asarray([avg_ret_dict[k][i]['return'] for i in list(avg_ret_dict[k])])\n",
    "    avgs.append(np.mean(x[~np.isnan(x)]))"
   ]
  },
  {
   "cell_type": "code",
   "execution_count": 27,
   "id": "e4d8c844-9349-44d2-bea6-9b780da04a55",
   "metadata": {},
   "outputs": [],
   "source": [
    "avg_seg = dict(zip(list(avg_ret_dict.keys()), avgs))"
   ]
  },
  {
   "cell_type": "code",
   "execution_count": 28,
   "id": "b3f3b41b-a1ab-4444-b9dc-ed34f839bbe2",
   "metadata": {},
   "outputs": [],
   "source": [
    "ret_seg=pd.DataFrame.from_dict(avg_seg, orient='index', columns=['ret'])"
   ]
  },
  {
   "cell_type": "code",
   "execution_count": 29,
   "id": "628028a4-08bc-4ae3-b839-6f084356e2de",
   "metadata": {},
   "outputs": [
    {
     "data": {
      "image/png": "[encoded data removed]",
      "text/plain": [
       "<Figure size 640x480 with 1 Axes>"
      ]
     },
     "metadata": {},
     "output_type": "display_data"
    }
   ],
   "source": [
    "x=np.log(ret_seg.index)\n",
    "y=ret_seg.values\n",
    "plt.scatter(x,y)\n",
    "\n",
    "x_1 = sm.add_constant(x)\n",
    "mod = sm.OLS(y, x_1)\n",
    "res=mod.fit()\n",
    "x_scatter = x\n",
    "y_scatter = x*res.params[1]+res.params[0]\n",
    "plt.plot(x_scatter,y_scatter, color='red')\n",
    "plt.xlabel('LogThreshold')\n",
    "plt.ylabel('LogavgReturn')\n",
    "plt.savefig('THRES_RET.png')"
   ]
  },
  {
   "cell_type": "code",
   "execution_count": 30,
   "id": "d62a4112-e3ab-4eb3-8231-3f02d38c9643",
   "metadata": {},
   "outputs": [
    {
     "data": {
      "text/html": [
       "<table class=\"simpletable\">\n",
       "<caption>OLS Regression Results</caption>\n",
       "<tr>\n",
       "  <th>Dep. Variable:</th>            <td>y</td>        <th>  R-squared:         </th> <td>   0.946</td> \n",
       "</tr>\n",
       "<tr>\n",
       "  <th>Model:</th>                   <td>OLS</td>       <th>  Adj. R-squared:    </th> <td>   0.946</td> \n",
       "</tr>\n",
       "<tr>\n",
       "  <th>Method:</th>             <td>Least Squares</td>  <th>  F-statistic:       </th> <td>   8738.</td> \n",
       "</tr>\n",
       "<tr>\n",
       "  <th>Date:</th>             <td>Sun, 11 Feb 2024</td> <th>  Prob (F-statistic):</th> <td>5.93e-318</td>\n",
       "</tr>\n",
       "<tr>\n",
       "  <th>Time:</th>                 <td>11:27:33</td>     <th>  Log-Likelihood:    </th> <td>  2990.1</td> \n",
       "</tr>\n",
       "<tr>\n",
       "  <th>No. Observations:</th>      <td>   500</td>      <th>  AIC:               </th> <td>  -5976.</td> \n",
       "</tr>\n",
       "<tr>\n",
       "  <th>Df Residuals:</th>          <td>   498</td>      <th>  BIC:               </th> <td>  -5968.</td> \n",
       "</tr>\n",
       "<tr>\n",
       "  <th>Df Model:</th>              <td>     1</td>      <th>                     </th>     <td> </td>    \n",
       "</tr>\n",
       "<tr>\n",
       "  <th>Covariance Type:</th>      <td>nonrobust</td>    <th>                     </th>     <td> </td>    \n",
       "</tr>\n",
       "</table>\n",
       "<table class=\"simpletable\">\n",
       "<tr>\n",
       "    <td></td>       <th>coef</th>     <th>std err</th>      <th>t</th>      <th>P>|t|</th>  <th>[0.025</th>    <th>0.975]</th>  \n",
       "</tr>\n",
       "<tr>\n",
       "  <th>const</th> <td>    0.0248</td> <td>    0.000</td> <td>  133.849</td> <td> 0.000</td> <td>    0.024</td> <td>    0.025</td>\n",
       "</tr>\n",
       "<tr>\n",
       "  <th>x1</th>    <td>    0.0036</td> <td> 3.85e-05</td> <td>   93.476</td> <td> 0.000</td> <td>    0.004</td> <td>    0.004</td>\n",
       "</tr>\n",
       "</table>\n",
       "<table class=\"simpletable\">\n",
       "<tr>\n",
       "  <th>Omnibus:</th>       <td>52.196</td> <th>  Durbin-Watson:     </th> <td>   0.017</td>\n",
       "</tr>\n",
       "<tr>\n",
       "  <th>Prob(Omnibus):</th> <td> 0.000</td> <th>  Jarque-Bera (JB):  </th> <td>  59.685</td>\n",
       "</tr>\n",
       "<tr>\n",
       "  <th>Skew:</th>          <td> 0.811</td> <th>  Prob(JB):          </th> <td>1.10e-13</td>\n",
       "</tr>\n",
       "<tr>\n",
       "  <th>Kurtosis:</th>      <td> 2.517</td> <th>  Cond. No.          </th> <td>    33.8</td>\n",
       "</tr>\n",
       "</table><br/><br/>Notes:<br/>[1] Standard Errors assume that the covariance matrix of the errors is correctly specified."
      ],
      "text/latex": [
       "\\begin{center}\n",
       "\\begin{tabular}{lclc}\n",
       "\\toprule\n",
       "\\textbf{Dep. Variable:}    &        y         & \\textbf{  R-squared:         } &     0.946   \\\\\n",
       "\\textbf{Model:}            &       OLS        & \\textbf{  Adj. R-squared:    } &     0.946   \\\\\n",
       "\\textbf{Method:}           &  Least Squares   & \\textbf{  F-statistic:       } &     8738.   \\\\\n",
       "\\textbf{Date:}             & Sun, 11 Feb 2024 & \\textbf{  Prob (F-statistic):} & 5.93e-318   \\\\\n",
       "\\textbf{Time:}             &     11:27:33     & \\textbf{  Log-Likelihood:    } &    2990.1   \\\\\n",
       "\\textbf{No. Observations:} &         500      & \\textbf{  AIC:               } &    -5976.   \\\\\n",
       "\\textbf{Df Residuals:}     &         498      & \\textbf{  BIC:               } &    -5968.   \\\\\n",
       "\\textbf{Df Model:}         &           1      & \\textbf{                     } &             \\\\\n",
       "\\textbf{Covariance Type:}  &    nonrobust     & \\textbf{                     } &             \\\\\n",
       "\\bottomrule\n",
       "\\end{tabular}\n",
       "\\begin{tabular}{lcccccc}\n",
       "               & \\textbf{coef} & \\textbf{std err} & \\textbf{t} & \\textbf{P$> |$t$|$} & \\textbf{[0.025} & \\textbf{0.975]}  \\\\\n",
       "\\midrule\n",
       "\\textbf{const} &       0.0248  &        0.000     &   133.849  &         0.000        &        0.024    &        0.025     \\\\\n",
       "\\textbf{x1}    &       0.0036  &     3.85e-05     &    93.476  &         0.000        &        0.004    &        0.004     \\\\\n",
       "\\bottomrule\n",
       "\\end{tabular}\n",
       "\\begin{tabular}{lclc}\n",
       "\\textbf{Omnibus:}       & 52.196 & \\textbf{  Durbin-Watson:     } &    0.017  \\\\\n",
       "\\textbf{Prob(Omnibus):} &  0.000 & \\textbf{  Jarque-Bera (JB):  } &   59.685  \\\\\n",
       "\\textbf{Skew:}          &  0.811 & \\textbf{  Prob(JB):          } & 1.10e-13  \\\\\n",
       "\\textbf{Kurtosis:}      &  2.517 & \\textbf{  Cond. No.          } &     33.8  \\\\\n",
       "\\bottomrule\n",
       "\\end{tabular}\n",
       "%\\caption{OLS Regression Results}\n",
       "\\end{center}\n",
       "\n",
       "Notes: \\newline\n",
       " [1] Standard Errors assume that the covariance matrix of the errors is correctly specified."
      ],
      "text/plain": [
       "<class 'statsmodels.iolib.summary.Summary'>\n",
       "\"\"\"\n",
       "                            OLS Regression Results                            \n",
       "==============================================================================\n",
       "Dep. Variable:                      y   R-squared:                       0.946\n",
       "Model:                            OLS   Adj. R-squared:                  0.946\n",
       "Method:                 Least Squares   F-statistic:                     8738.\n",
       "Date:                Sun, 11 Feb 2024   Prob (F-statistic):          5.93e-318\n",
       "Time:                        11:27:33   Log-Likelihood:                 2990.1\n",
       "No. Observations:                 500   AIC:                            -5976.\n",
       "Df Residuals:                     498   BIC:                            -5968.\n",
       "Df Model:                           1                                         \n",
       "Covariance Type:            nonrobust                                         \n",
       "==============================================================================\n",
       "                 coef    std err          t      P>|t|      [0.025      0.975]\n",
       "------------------------------------------------------------------------------\n",
       "const          0.0248      0.000    133.849      0.000       0.024       0.025\n",
       "x1             0.0036   3.85e-05     93.476      0.000       0.004       0.004\n",
       "==============================================================================\n",
       "Omnibus:                       52.196   Durbin-Watson:                   0.017\n",
       "Prob(Omnibus):                  0.000   Jarque-Bera (JB):               59.685\n",
       "Skew:                           0.811   Prob(JB):                     1.10e-13\n",
       "Kurtosis:                       2.517   Cond. No.                         33.8\n",
       "==============================================================================\n",
       "\n",
       "Notes:\n",
       "[1] Standard Errors assume that the covariance matrix of the errors is correctly specified.\n",
       "\"\"\""
      ]
     },
     "execution_count": 30,
     "metadata": {},
     "output_type": "execute_result"
    }
   ],
   "source": [
    "res.summary()"
   ]
  },
  {
   "cell_type": "code",
   "execution_count": 31,
   "id": "2e939fb8-8385-4da8-84eb-fbdee6b44756",
   "metadata": {},
   "outputs": [],
   "source": [
    "res.save(\"RETThreshold_Original.pickle\")"
   ]
  },
  {
   "cell_type": "code",
   "execution_count": 32,
   "id": "751da4a7-ed82-47d0-8878-058756eb14f1",
   "metadata": {},
   "outputs": [],
   "source": [
    "vol_ret={}\n",
    "for k in list(avg_ret_dict.keys()):\n",
    "    x=np.asarray([avg_ret_dict[k][i]['return'] for i in list(avg_ret_dict[k])])\n",
    "    y=np.asarray([avg_ret_dict[k][i]['vol'] for i in list(avg_ret_dict[k])])\n",
    "    idx=np.argwhere(~np.isnan(x)).flatten()\n",
    "    vol_ret.update({k:{'ret':np.mean(x[idx]),'vol':np.mean(y[idx])}}) #.append(np.mean(x[~np.isnan(x)]))"
   ]
  },
  {
   "cell_type": "code",
   "execution_count": 33,
   "id": "5063ebdc-df93-4a3a-a44e-52d7cb038783",
   "metadata": {},
   "outputs": [],
   "source": [
    "vol_ret_df=pd.DataFrame.from_dict(vol_ret, orient='index')"
   ]
  },
  {
   "cell_type": "code",
   "execution_count": 34,
   "id": "182dc069-89d3-4ce4-8cc4-c3561c2af5e0",
   "metadata": {},
   "outputs": [
    {
     "name": "stderr",
     "output_type": "stream",
     "text": [
      "C:\\Users\\zekec\\AppData\\Local\\Temp\\ipykernel_9524\\1369721457.py:13: FutureWarning: Series.__getitem__ treating keys as positions is deprecated. In a future version, integer keys will always be treated as labels (consistent with DataFrame behavior). To access a value by position, use `ser.iloc[pos]`\n",
      "  y_scatter = x*res.params[1]+res.params[0]\n"
     ]
    },
    {
     "data": {
      "image/png": "[encoded data removed]",
      "text/plain": [
       "<Figure size 640x480 with 1 Axes>"
      ]
     },
     "metadata": {},
     "output_type": "display_data"
    }
   ],
   "source": [
    "s=0.007\n",
    "e=0.012\n",
    "y=vol_ret_df.loc[(vol_ret_df.index>s)&(vol_ret_df.index<e)]['ret']\n",
    "x=vol_ret_df.loc[(vol_ret_df.index>s)&(vol_ret_df.index<e)]['vol']\n",
    "# x=[j for i in np.array(x).flatten() for j in i]\n",
    "x=np.log(np.array(x))\n",
    "# y=[j for i in np.array(y).flatten() for j in i]\n",
    "plt.scatter(x,y)\n",
    "x_1 = sm.add_constant(x)\n",
    "mod = sm.OLS(y, x_1)\n",
    "res=mod.fit()\n",
    "x_scatter = x\n",
    "y_scatter = x*res.params[1]+res.params[0]\n",
    "plt.plot(x_scatter,y_scatter, color='red')\n",
    "plt.xlabel('LogVolatility')\n",
    "plt.ylabel('LogReturn')\n",
    "plt.savefig('VOL_RET.png')"
   ]
  },
  {
   "cell_type": "code",
   "execution_count": 35,
   "id": "f45b69d9-737f-42e2-a936-ca112d6a999f",
   "metadata": {},
   "outputs": [
    {
     "data": {
      "text/html": [
       "<table class=\"simpletable\">\n",
       "<caption>OLS Regression Results</caption>\n",
       "<tr>\n",
       "  <th>Dep. Variable:</th>           <td>ret</td>       <th>  R-squared:         </th> <td>   0.991</td> \n",
       "</tr>\n",
       "<tr>\n",
       "  <th>Model:</th>                   <td>OLS</td>       <th>  Adj. R-squared:    </th> <td>   0.991</td> \n",
       "</tr>\n",
       "<tr>\n",
       "  <th>Method:</th>             <td>Least Squares</td>  <th>  F-statistic:       </th> <td>1.396e+04</td>\n",
       "</tr>\n",
       "<tr>\n",
       "  <th>Date:</th>             <td>Sun, 11 Feb 2024</td> <th>  Prob (F-statistic):</th> <td>2.37e-133</td>\n",
       "</tr>\n",
       "<tr>\n",
       "  <th>Time:</th>                 <td>11:27:34</td>     <th>  Log-Likelihood:    </th> <td>  1044.4</td> \n",
       "</tr>\n",
       "<tr>\n",
       "  <th>No. Observations:</th>      <td>   131</td>      <th>  AIC:               </th> <td>  -2085.</td> \n",
       "</tr>\n",
       "<tr>\n",
       "  <th>Df Residuals:</th>          <td>   129</td>      <th>  BIC:               </th> <td>  -2079.</td> \n",
       "</tr>\n",
       "<tr>\n",
       "  <th>Df Model:</th>              <td>     1</td>      <th>                     </th>     <td> </td>    \n",
       "</tr>\n",
       "<tr>\n",
       "  <th>Covariance Type:</th>      <td>nonrobust</td>    <th>                     </th>     <td> </td>    \n",
       "</tr>\n",
       "</table>\n",
       "<table class=\"simpletable\">\n",
       "<tr>\n",
       "    <td></td>       <th>coef</th>     <th>std err</th>      <th>t</th>      <th>P>|t|</th>  <th>[0.025</th>    <th>0.975]</th>  \n",
       "</tr>\n",
       "<tr>\n",
       "  <th>const</th> <td>    0.1429</td> <td>    0.001</td> <td>  124.962</td> <td> 0.000</td> <td>    0.141</td> <td>    0.145</td>\n",
       "</tr>\n",
       "<tr>\n",
       "  <th>x1</th>    <td>    0.0179</td> <td>    0.000</td> <td>  118.158</td> <td> 0.000</td> <td>    0.018</td> <td>    0.018</td>\n",
       "</tr>\n",
       "</table>\n",
       "<table class=\"simpletable\">\n",
       "<tr>\n",
       "  <th>Omnibus:</th>       <td> 7.501</td> <th>  Durbin-Watson:     </th> <td>   0.336</td>\n",
       "</tr>\n",
       "<tr>\n",
       "  <th>Prob(Omnibus):</th> <td> 0.024</td> <th>  Jarque-Bera (JB):  </th> <td>   6.159</td>\n",
       "</tr>\n",
       "<tr>\n",
       "  <th>Skew:</th>          <td>-0.435</td> <th>  Prob(JB):          </th> <td>  0.0460</td>\n",
       "</tr>\n",
       "<tr>\n",
       "  <th>Kurtosis:</th>      <td> 2.390</td> <th>  Cond. No.          </th> <td>1.19e+03</td>\n",
       "</tr>\n",
       "</table><br/><br/>Notes:<br/>[1] Standard Errors assume that the covariance matrix of the errors is correctly specified.<br/>[2] The condition number is large, 1.19e+03. This might indicate that there are<br/>strong multicollinearity or other numerical problems."
      ],
      "text/latex": [
       "\\begin{center}\n",
       "\\begin{tabular}{lclc}\n",
       "\\toprule\n",
       "\\textbf{Dep. Variable:}    &       ret        & \\textbf{  R-squared:         } &     0.991   \\\\\n",
       "\\textbf{Model:}            &       OLS        & \\textbf{  Adj. R-squared:    } &     0.991   \\\\\n",
       "\\textbf{Method:}           &  Least Squares   & \\textbf{  F-statistic:       } & 1.396e+04   \\\\\n",
       "\\textbf{Date:}             & Sun, 11 Feb 2024 & \\textbf{  Prob (F-statistic):} & 2.37e-133   \\\\\n",
       "\\textbf{Time:}             &     11:27:34     & \\textbf{  Log-Likelihood:    } &    1044.4   \\\\\n",
       "\\textbf{No. Observations:} &         131      & \\textbf{  AIC:               } &    -2085.   \\\\\n",
       "\\textbf{Df Residuals:}     &         129      & \\textbf{  BIC:               } &    -2079.   \\\\\n",
       "\\textbf{Df Model:}         &           1      & \\textbf{                     } &             \\\\\n",
       "\\textbf{Covariance Type:}  &    nonrobust     & \\textbf{                     } &             \\\\\n",
       "\\bottomrule\n",
       "\\end{tabular}\n",
       "\\begin{tabular}{lcccccc}\n",
       "               & \\textbf{coef} & \\textbf{std err} & \\textbf{t} & \\textbf{P$> |$t$|$} & \\textbf{[0.025} & \\textbf{0.975]}  \\\\\n",
       "\\midrule\n",
       "\\textbf{const} &       0.1429  &        0.001     &   124.962  &         0.000        &        0.141    &        0.145     \\\\\n",
       "\\textbf{x1}    &       0.0179  &        0.000     &   118.158  &         0.000        &        0.018    &        0.018     \\\\\n",
       "\\bottomrule\n",
       "\\end{tabular}\n",
       "\\begin{tabular}{lclc}\n",
       "\\textbf{Omnibus:}       &  7.501 & \\textbf{  Durbin-Watson:     } &    0.336  \\\\\n",
       "\\textbf{Prob(Omnibus):} &  0.024 & \\textbf{  Jarque-Bera (JB):  } &    6.159  \\\\\n",
       "\\textbf{Skew:}          & -0.435 & \\textbf{  Prob(JB):          } &   0.0460  \\\\\n",
       "\\textbf{Kurtosis:}      &  2.390 & \\textbf{  Cond. No.          } & 1.19e+03  \\\\\n",
       "\\bottomrule\n",
       "\\end{tabular}\n",
       "%\\caption{OLS Regression Results}\n",
       "\\end{center}\n",
       "\n",
       "Notes: \\newline\n",
       " [1] Standard Errors assume that the covariance matrix of the errors is correctly specified. \\newline\n",
       " [2] The condition number is large, 1.19e+03. This might indicate that there are \\newline\n",
       " strong multicollinearity or other numerical problems."
      ],
      "text/plain": [
       "<class 'statsmodels.iolib.summary.Summary'>\n",
       "\"\"\"\n",
       "                            OLS Regression Results                            \n",
       "==============================================================================\n",
       "Dep. Variable:                    ret   R-squared:                       0.991\n",
       "Model:                            OLS   Adj. R-squared:                  0.991\n",
       "Method:                 Least Squares   F-statistic:                 1.396e+04\n",
       "Date:                Sun, 11 Feb 2024   Prob (F-statistic):          2.37e-133\n",
       "Time:                        11:27:34   Log-Likelihood:                 1044.4\n",
       "No. Observations:                 131   AIC:                            -2085.\n",
       "Df Residuals:                     129   BIC:                            -2079.\n",
       "Df Model:                           1                                         \n",
       "Covariance Type:            nonrobust                                         \n",
       "==============================================================================\n",
       "                 coef    std err          t      P>|t|      [0.025      0.975]\n",
       "------------------------------------------------------------------------------\n",
       "const          0.1429      0.001    124.962      0.000       0.141       0.145\n",
       "x1             0.0179      0.000    118.158      0.000       0.018       0.018\n",
       "==============================================================================\n",
       "Omnibus:                        7.501   Durbin-Watson:                   0.336\n",
       "Prob(Omnibus):                  0.024   Jarque-Bera (JB):                6.159\n",
       "Skew:                          -0.435   Prob(JB):                       0.0460\n",
       "Kurtosis:                       2.390   Cond. No.                     1.19e+03\n",
       "==============================================================================\n",
       "\n",
       "Notes:\n",
       "[1] Standard Errors assume that the covariance matrix of the errors is correctly specified.\n",
       "[2] The condition number is large, 1.19e+03. This might indicate that there are\n",
       "strong multicollinearity or other numerical problems.\n",
       "\"\"\""
      ]
     },
     "execution_count": 35,
     "metadata": {},
     "output_type": "execute_result"
    }
   ],
   "source": [
    "res.summary()"
   ]
  },
  {
   "cell_type": "code",
   "execution_count": 36,
   "id": "fac76a33-915b-4b25-8270-30284b9dd377",
   "metadata": {},
   "outputs": [],
   "source": [
    "res.save(\"RETVOL_Original.pickle\")"
   ]
  },
  {
   "cell_type": "code",
   "execution_count": 37,
   "id": "df8101e3-6523-4a91-9ba6-86e02c1f9b5f",
   "metadata": {},
   "outputs": [],
   "source": [
    "vol_ndc={}\n",
    "for k in list(avg_ret_dict.keys()):\n",
    "    x=np.asarray([avg_ret_dict[k][i]['sample_ndc'] for i in list(avg_ret_dict[k])])\n",
    "    y=np.asarray([avg_ret_dict[k][i]['vol'] for i in list(avg_ret_dict[k])])\n",
    "    idx=np.argwhere(~np.isnan(x)).flatten()\n",
    "    vol_ndc.update({k:{'ndc':x[idx],'vol':y[idx]}}) #.append(np.mean(x[~np.isnan(x)]))"
   ]
  },
  {
   "cell_type": "code",
   "execution_count": 38,
   "id": "86d8a440-7c4c-4ab7-be6f-04b77e50b555",
   "metadata": {},
   "outputs": [],
   "source": [
    "vol_ndc_df=pd.DataFrame.from_dict(vol_ndc, orient='index')"
   ]
  },
  {
   "cell_type": "code",
   "execution_count": 39,
   "id": "4d275aab-ba03-4966-b1d2-c8ddee35dcd7",
   "metadata": {},
   "outputs": [
    {
     "data": {
      "image/png": "[encoded data removed]",
      "text/plain": [
       "<Figure size 640x480 with 1 Axes>"
      ]
     },
     "metadata": {},
     "output_type": "display_data"
    }
   ],
   "source": [
    "s=0.007\n",
    "e=0.012\n",
    "y=vol_ndc_df.loc[(vol_ndc_df.index>s)&(vol_ndc_df.index<e)]['ndc']\n",
    "x=vol_ndc_df.loc[(vol_ndc_df.index>s)&(vol_ndc_df.index<e)]['vol']\n",
    "x=[np.mean(i) for i in np.array(x)]\n",
    "x=np.log(np.array(x))\n",
    "y=[np.mean(i) for i in np.array(y)]\n",
    "y=np.log(np.array(y))\n",
    "plt.scatter(x,y)\n",
    "x_1 = sm.add_constant(x)\n",
    "mod = sm.OLS(y, x_1)\n",
    "res=mod.fit()\n",
    "x_scatter = x\n",
    "y_scatter = x*res.params[1]+res.params[0]\n",
    "plt.plot(x_scatter,y_scatter, color='red')\n",
    "plt.xlabel('LogVolatility')\n",
    "plt.ylabel('LogNDC')\n",
    "plt.savefig('VOL_NDC.png')"
   ]
  },
  {
   "cell_type": "code",
   "execution_count": 40,
   "id": "d99266e4-9518-4ca2-ad3e-77f0e2ca2949",
   "metadata": {},
   "outputs": [
    {
     "data": {
      "text/html": [
       "<table class=\"simpletable\">\n",
       "<caption>OLS Regression Results</caption>\n",
       "<tr>\n",
       "  <th>Dep. Variable:</th>            <td>y</td>        <th>  R-squared:         </th> <td>   0.871</td>\n",
       "</tr>\n",
       "<tr>\n",
       "  <th>Model:</th>                   <td>OLS</td>       <th>  Adj. R-squared:    </th> <td>   0.870</td>\n",
       "</tr>\n",
       "<tr>\n",
       "  <th>Method:</th>             <td>Least Squares</td>  <th>  F-statistic:       </th> <td>   873.1</td>\n",
       "</tr>\n",
       "<tr>\n",
       "  <th>Date:</th>             <td>Sun, 11 Feb 2024</td> <th>  Prob (F-statistic):</th> <td>2.81e-59</td>\n",
       "</tr>\n",
       "<tr>\n",
       "  <th>Time:</th>                 <td>11:27:34</td>     <th>  Log-Likelihood:    </th> <td>  151.51</td>\n",
       "</tr>\n",
       "<tr>\n",
       "  <th>No. Observations:</th>      <td>   131</td>      <th>  AIC:               </th> <td>  -299.0</td>\n",
       "</tr>\n",
       "<tr>\n",
       "  <th>Df Residuals:</th>          <td>   129</td>      <th>  BIC:               </th> <td>  -293.3</td>\n",
       "</tr>\n",
       "<tr>\n",
       "  <th>Df Model:</th>              <td>     1</td>      <th>                     </th>     <td> </td>   \n",
       "</tr>\n",
       "<tr>\n",
       "  <th>Covariance Type:</th>      <td>nonrobust</td>    <th>                     </th>     <td> </td>   \n",
       "</tr>\n",
       "</table>\n",
       "<table class=\"simpletable\">\n",
       "<tr>\n",
       "    <td></td>       <th>coef</th>     <th>std err</th>      <th>t</th>      <th>P>|t|</th>  <th>[0.025</th>    <th>0.975]</th>  \n",
       "</tr>\n",
       "<tr>\n",
       "  <th>const</th> <td> -105.7888</td> <td>    3.612</td> <td>  -29.290</td> <td> 0.000</td> <td> -112.935</td> <td>  -98.643</td>\n",
       "</tr>\n",
       "<tr>\n",
       "  <th>x1</th>    <td>  -13.9451</td> <td>    0.472</td> <td>  -29.549</td> <td> 0.000</td> <td>  -14.879</td> <td>  -13.011</td>\n",
       "</tr>\n",
       "</table>\n",
       "<table class=\"simpletable\">\n",
       "<tr>\n",
       "  <th>Omnibus:</th>       <td>18.983</td> <th>  Durbin-Watson:     </th> <td>   0.029</td>\n",
       "</tr>\n",
       "<tr>\n",
       "  <th>Prob(Omnibus):</th> <td> 0.000</td> <th>  Jarque-Bera (JB):  </th> <td>   9.819</td>\n",
       "</tr>\n",
       "<tr>\n",
       "  <th>Skew:</th>          <td> 0.491</td> <th>  Prob(JB):          </th> <td> 0.00738</td>\n",
       "</tr>\n",
       "<tr>\n",
       "  <th>Kurtosis:</th>      <td> 2.086</td> <th>  Cond. No.          </th> <td>4.20e+03</td>\n",
       "</tr>\n",
       "</table><br/><br/>Notes:<br/>[1] Standard Errors assume that the covariance matrix of the errors is correctly specified.<br/>[2] The condition number is large, 4.2e+03. This might indicate that there are<br/>strong multicollinearity or other numerical problems."
      ],
      "text/latex": [
       "\\begin{center}\n",
       "\\begin{tabular}{lclc}\n",
       "\\toprule\n",
       "\\textbf{Dep. Variable:}    &        y         & \\textbf{  R-squared:         } &     0.871   \\\\\n",
       "\\textbf{Model:}            &       OLS        & \\textbf{  Adj. R-squared:    } &     0.870   \\\\\n",
       "\\textbf{Method:}           &  Least Squares   & \\textbf{  F-statistic:       } &     873.1   \\\\\n",
       "\\textbf{Date:}             & Sun, 11 Feb 2024 & \\textbf{  Prob (F-statistic):} &  2.81e-59   \\\\\n",
       "\\textbf{Time:}             &     11:27:34     & \\textbf{  Log-Likelihood:    } &    151.51   \\\\\n",
       "\\textbf{No. Observations:} &         131      & \\textbf{  AIC:               } &    -299.0   \\\\\n",
       "\\textbf{Df Residuals:}     &         129      & \\textbf{  BIC:               } &    -293.3   \\\\\n",
       "\\textbf{Df Model:}         &           1      & \\textbf{                     } &             \\\\\n",
       "\\textbf{Covariance Type:}  &    nonrobust     & \\textbf{                     } &             \\\\\n",
       "\\bottomrule\n",
       "\\end{tabular}\n",
       "\\begin{tabular}{lcccccc}\n",
       "               & \\textbf{coef} & \\textbf{std err} & \\textbf{t} & \\textbf{P$> |$t$|$} & \\textbf{[0.025} & \\textbf{0.975]}  \\\\\n",
       "\\midrule\n",
       "\\textbf{const} &    -105.7888  &        3.612     &   -29.290  &         0.000        &     -112.935    &      -98.643     \\\\\n",
       "\\textbf{x1}    &     -13.9451  &        0.472     &   -29.549  &         0.000        &      -14.879    &      -13.011     \\\\\n",
       "\\bottomrule\n",
       "\\end{tabular}\n",
       "\\begin{tabular}{lclc}\n",
       "\\textbf{Omnibus:}       & 18.983 & \\textbf{  Durbin-Watson:     } &    0.029  \\\\\n",
       "\\textbf{Prob(Omnibus):} &  0.000 & \\textbf{  Jarque-Bera (JB):  } &    9.819  \\\\\n",
       "\\textbf{Skew:}          &  0.491 & \\textbf{  Prob(JB):          } &  0.00738  \\\\\n",
       "\\textbf{Kurtosis:}      &  2.086 & \\textbf{  Cond. No.          } & 4.20e+03  \\\\\n",
       "\\bottomrule\n",
       "\\end{tabular}\n",
       "%\\caption{OLS Regression Results}\n",
       "\\end{center}\n",
       "\n",
       "Notes: \\newline\n",
       " [1] Standard Errors assume that the covariance matrix of the errors is correctly specified. \\newline\n",
       " [2] The condition number is large, 4.2e+03. This might indicate that there are \\newline\n",
       " strong multicollinearity or other numerical problems."
      ],
      "text/plain": [
       "<class 'statsmodels.iolib.summary.Summary'>\n",
       "\"\"\"\n",
       "                            OLS Regression Results                            \n",
       "==============================================================================\n",
       "Dep. Variable:                      y   R-squared:                       0.871\n",
       "Model:                            OLS   Adj. R-squared:                  0.870\n",
       "Method:                 Least Squares   F-statistic:                     873.1\n",
       "Date:                Sun, 11 Feb 2024   Prob (F-statistic):           2.81e-59\n",
       "Time:                        11:27:34   Log-Likelihood:                 151.51\n",
       "No. Observations:                 131   AIC:                            -299.0\n",
       "Df Residuals:                     129   BIC:                            -293.3\n",
       "Df Model:                           1                                         \n",
       "Covariance Type:            nonrobust                                         \n",
       "==============================================================================\n",
       "                 coef    std err          t      P>|t|      [0.025      0.975]\n",
       "------------------------------------------------------------------------------\n",
       "const       -105.7888      3.612    -29.290      0.000    -112.935     -98.643\n",
       "x1           -13.9451      0.472    -29.549      0.000     -14.879     -13.011\n",
       "==============================================================================\n",
       "Omnibus:                       18.983   Durbin-Watson:                   0.029\n",
       "Prob(Omnibus):                  0.000   Jarque-Bera (JB):                9.819\n",
       "Skew:                           0.491   Prob(JB):                      0.00738\n",
       "Kurtosis:                       2.086   Cond. No.                     4.20e+03\n",
       "==============================================================================\n",
       "\n",
       "Notes:\n",
       "[1] Standard Errors assume that the covariance matrix of the errors is correctly specified.\n",
       "[2] The condition number is large, 4.2e+03. This might indicate that there are\n",
       "strong multicollinearity or other numerical problems.\n",
       "\"\"\""
      ]
     },
     "execution_count": 40,
     "metadata": {},
     "output_type": "execute_result"
    }
   ],
   "source": [
    "res.summary()"
   ]
  },
  {
   "cell_type": "code",
   "execution_count": 41,
   "id": "1f704fb0-265e-4a81-a65f-cd998fc2c0b1",
   "metadata": {},
   "outputs": [],
   "source": [
    "res.save(\"NDCVOL_Original.pickle\")"
   ]
  },
  {
   "cell_type": "code",
   "execution_count": 42,
   "id": "01d5aa66-aa13-4bbe-8a32-3f9eee085584",
   "metadata": {},
   "outputs": [],
   "source": [
    "vol_thres={}\n",
    "for k in list(avg_ret_dict.keys()):\n",
    "    x=k\n",
    "    y=np.asarray([avg_ret_dict[k][i]['vol'] for i in list(avg_ret_dict[k])])\n",
    "    vol_thres.update({k:{'thres':x,'vol':np.mean(y)}}) #.append(np.mean(x[~np.isnan(x)]))"
   ]
  },
  {
   "cell_type": "code",
   "execution_count": 43,
   "id": "b6d67cfc-291c-4653-8bc6-d69e8d8868a6",
   "metadata": {},
   "outputs": [],
   "source": [
    "vol_thres_df=pd.DataFrame.from_dict(vol_thres, orient='index')"
   ]
  },
  {
   "cell_type": "code",
   "execution_count": 44,
   "id": "6cdedc56-b678-4611-85bc-ec355849b098",
   "metadata": {},
   "outputs": [
    {
     "data": {
      "text/plain": [
       "[<matplotlib.lines.Line2D at 0x14fdc91f550>]"
      ]
     },
     "execution_count": 44,
     "metadata": {},
     "output_type": "execute_result"
    },
    {
     "data": {
      "image/png": "[encoded data removed]",
      "text/plain": [
       "<Figure size 640x480 with 1 Axes>"
      ]
     },
     "metadata": {},
     "output_type": "display_data"
    }
   ],
   "source": [
    "s=0.007\n",
    "e=0.012\n",
    "y=vol_thres_df.loc[(vol_thres_df.index>s)&(vol_thres_df.index<e)]['thres']\n",
    "x=vol_thres_df.loc[(vol_thres_df.index>s)&(vol_thres_df.index<e)]['vol']\n",
    "x=np.log(np.array(x))\n",
    "y=np.log(np.array(y))\n",
    "plt.scatter(x,y)\n",
    "x_1 = sm.add_constant(x)\n",
    "mod = sm.OLS(y, x_1)\n",
    "res=mod.fit()\n",
    "x_scatter = x\n",
    "y_scatter = x*res.params[1]+res.params[0]\n",
    "plt.plot(x_scatter,y_scatter, color='red')\n"
   ]
  },
  {
   "cell_type": "code",
   "execution_count": 45,
   "id": "de9edb88-2551-479c-8977-1ebb376fe47b",
   "metadata": {},
   "outputs": [
    {
     "data": {
      "text/html": [
       "<table class=\"simpletable\">\n",
       "<caption>OLS Regression Results</caption>\n",
       "<tr>\n",
       "  <th>Dep. Variable:</th>            <td>y</td>        <th>  R-squared:         </th> <td>   0.860</td>\n",
       "</tr>\n",
       "<tr>\n",
       "  <th>Model:</th>                   <td>OLS</td>       <th>  Adj. R-squared:    </th> <td>   0.859</td>\n",
       "</tr>\n",
       "<tr>\n",
       "  <th>Method:</th>             <td>Least Squares</td>  <th>  F-statistic:       </th> <td>   795.4</td>\n",
       "</tr>\n",
       "<tr>\n",
       "  <th>Date:</th>             <td>Sun, 11 Feb 2024</td> <th>  Prob (F-statistic):</th> <td>5.16e-57</td>\n",
       "</tr>\n",
       "<tr>\n",
       "  <th>Time:</th>                 <td>11:27:35</td>     <th>  Log-Likelihood:    </th> <td>  187.99</td>\n",
       "</tr>\n",
       "<tr>\n",
       "  <th>No. Observations:</th>      <td>   131</td>      <th>  AIC:               </th> <td>  -372.0</td>\n",
       "</tr>\n",
       "<tr>\n",
       "  <th>Df Residuals:</th>          <td>   129</td>      <th>  BIC:               </th> <td>  -366.2</td>\n",
       "</tr>\n",
       "<tr>\n",
       "  <th>Df Model:</th>              <td>     1</td>      <th>                     </th>     <td> </td>   \n",
       "</tr>\n",
       "<tr>\n",
       "  <th>Covariance Type:</th>      <td>nonrobust</td>    <th>                     </th>     <td> </td>   \n",
       "</tr>\n",
       "</table>\n",
       "<table class=\"simpletable\">\n",
       "<tr>\n",
       "    <td></td>       <th>coef</th>     <th>std err</th>      <th>t</th>      <th>P>|t|</th>  <th>[0.025</th>    <th>0.975]</th>  \n",
       "</tr>\n",
       "<tr>\n",
       "  <th>const</th> <td>   72.4382</td> <td>    2.734</td> <td>   26.495</td> <td> 0.000</td> <td>   67.029</td> <td>   77.847</td>\n",
       "</tr>\n",
       "<tr>\n",
       "  <th>x1</th>    <td>   10.0754</td> <td>    0.357</td> <td>   28.203</td> <td> 0.000</td> <td>    9.369</td> <td>   10.782</td>\n",
       "</tr>\n",
       "</table>\n",
       "<table class=\"simpletable\">\n",
       "<tr>\n",
       "  <th>Omnibus:</th>       <td>25.705</td> <th>  Durbin-Watson:     </th> <td>   0.021</td>\n",
       "</tr>\n",
       "<tr>\n",
       "  <th>Prob(Omnibus):</th> <td> 0.000</td> <th>  Jarque-Bera (JB):  </th> <td>  13.520</td>\n",
       "</tr>\n",
       "<tr>\n",
       "  <th>Skew:</th>          <td>-0.619</td> <th>  Prob(JB):          </th> <td> 0.00116</td>\n",
       "</tr>\n",
       "<tr>\n",
       "  <th>Kurtosis:</th>      <td> 2.027</td> <th>  Cond. No.          </th> <td>4.20e+03</td>\n",
       "</tr>\n",
       "</table><br/><br/>Notes:<br/>[1] Standard Errors assume that the covariance matrix of the errors is correctly specified.<br/>[2] The condition number is large, 4.2e+03. This might indicate that there are<br/>strong multicollinearity or other numerical problems."
      ],
      "text/latex": [
       "\\begin{center}\n",
       "\\begin{tabular}{lclc}\n",
       "\\toprule\n",
       "\\textbf{Dep. Variable:}    &        y         & \\textbf{  R-squared:         } &     0.860   \\\\\n",
       "\\textbf{Model:}            &       OLS        & \\textbf{  Adj. R-squared:    } &     0.859   \\\\\n",
       "\\textbf{Method:}           &  Least Squares   & \\textbf{  F-statistic:       } &     795.4   \\\\\n",
       "\\textbf{Date:}             & Sun, 11 Feb 2024 & \\textbf{  Prob (F-statistic):} &  5.16e-57   \\\\\n",
       "\\textbf{Time:}             &     11:27:35     & \\textbf{  Log-Likelihood:    } &    187.99   \\\\\n",
       "\\textbf{No. Observations:} &         131      & \\textbf{  AIC:               } &    -372.0   \\\\\n",
       "\\textbf{Df Residuals:}     &         129      & \\textbf{  BIC:               } &    -366.2   \\\\\n",
       "\\textbf{Df Model:}         &           1      & \\textbf{                     } &             \\\\\n",
       "\\textbf{Covariance Type:}  &    nonrobust     & \\textbf{                     } &             \\\\\n",
       "\\bottomrule\n",
       "\\end{tabular}\n",
       "\\begin{tabular}{lcccccc}\n",
       "               & \\textbf{coef} & \\textbf{std err} & \\textbf{t} & \\textbf{P$> |$t$|$} & \\textbf{[0.025} & \\textbf{0.975]}  \\\\\n",
       "\\midrule\n",
       "\\textbf{const} &      72.4382  &        2.734     &    26.495  &         0.000        &       67.029    &       77.847     \\\\\n",
       "\\textbf{x1}    &      10.0754  &        0.357     &    28.203  &         0.000        &        9.369    &       10.782     \\\\\n",
       "\\bottomrule\n",
       "\\end{tabular}\n",
       "\\begin{tabular}{lclc}\n",
       "\\textbf{Omnibus:}       & 25.705 & \\textbf{  Durbin-Watson:     } &    0.021  \\\\\n",
       "\\textbf{Prob(Omnibus):} &  0.000 & \\textbf{  Jarque-Bera (JB):  } &   13.520  \\\\\n",
       "\\textbf{Skew:}          & -0.619 & \\textbf{  Prob(JB):          } &  0.00116  \\\\\n",
       "\\textbf{Kurtosis:}      &  2.027 & \\textbf{  Cond. No.          } & 4.20e+03  \\\\\n",
       "\\bottomrule\n",
       "\\end{tabular}\n",
       "%\\caption{OLS Regression Results}\n",
       "\\end{center}\n",
       "\n",
       "Notes: \\newline\n",
       " [1] Standard Errors assume that the covariance matrix of the errors is correctly specified. \\newline\n",
       " [2] The condition number is large, 4.2e+03. This might indicate that there are \\newline\n",
       " strong multicollinearity or other numerical problems."
      ],
      "text/plain": [
       "<class 'statsmodels.iolib.summary.Summary'>\n",
       "\"\"\"\n",
       "                            OLS Regression Results                            \n",
       "==============================================================================\n",
       "Dep. Variable:                      y   R-squared:                       0.860\n",
       "Model:                            OLS   Adj. R-squared:                  0.859\n",
       "Method:                 Least Squares   F-statistic:                     795.4\n",
       "Date:                Sun, 11 Feb 2024   Prob (F-statistic):           5.16e-57\n",
       "Time:                        11:27:35   Log-Likelihood:                 187.99\n",
       "No. Observations:                 131   AIC:                            -372.0\n",
       "Df Residuals:                     129   BIC:                            -366.2\n",
       "Df Model:                           1                                         \n",
       "Covariance Type:            nonrobust                                         \n",
       "==============================================================================\n",
       "                 coef    std err          t      P>|t|      [0.025      0.975]\n",
       "------------------------------------------------------------------------------\n",
       "const         72.4382      2.734     26.495      0.000      67.029      77.847\n",
       "x1            10.0754      0.357     28.203      0.000       9.369      10.782\n",
       "==============================================================================\n",
       "Omnibus:                       25.705   Durbin-Watson:                   0.021\n",
       "Prob(Omnibus):                  0.000   Jarque-Bera (JB):               13.520\n",
       "Skew:                          -0.619   Prob(JB):                      0.00116\n",
       "Kurtosis:                       2.027   Cond. No.                     4.20e+03\n",
       "==============================================================================\n",
       "\n",
       "Notes:\n",
       "[1] Standard Errors assume that the covariance matrix of the errors is correctly specified.\n",
       "[2] The condition number is large, 4.2e+03. This might indicate that there are\n",
       "strong multicollinearity or other numerical problems.\n",
       "\"\"\""
      ]
     },
     "execution_count": 45,
     "metadata": {},
     "output_type": "execute_result"
    }
   ],
   "source": [
    "res.summary()"
   ]
  },
  {
   "cell_type": "code",
   "execution_count": 46,
   "id": "0c7b030b-bd3e-474a-8549-79d660994bbd",
   "metadata": {},
   "outputs": [],
   "source": [
    "res.save(\"VOLThres_Original.pickle\")"
   ]
  },
  {
   "cell_type": "code",
   "execution_count": 47,
   "id": "227b649a-5b18-4cbd-9003-93d9ec2c7b84",
   "metadata": {},
   "outputs": [],
   "source": [
    "s=0.007\n",
    "e=0.012\n",
    "y=vol_ret_df.loc[(vol_ret_df.index>s)&(vol_ret_df.index<e)]['ret']\n",
    "x1=np.log(vol_ret_df.loc[(vol_ret_df.index>s)&(vol_ret_df.index<e)].index)\n",
    "x2=np.log(vol_ret_df.loc[(vol_ret_df.index>s)&(vol_ret_df.index<e)]['vol'])\n",
    "x = np.concatenate([[x1],[x2]]).T\n",
    "x_1 = sm.add_constant(x)\n",
    "mod = sm.OLS(y, x_1)\n",
    "res=mod.fit()"
   ]
  },
  {
   "cell_type": "code",
   "execution_count": 48,
   "id": "b20f7170-1011-4e34-b066-54c641bc6614",
   "metadata": {},
   "outputs": [
    {
     "data": {
      "text/html": [
       "<table class=\"simpletable\">\n",
       "<caption>OLS Regression Results</caption>\n",
       "<tr>\n",
       "  <th>Dep. Variable:</th>           <td>ret</td>       <th>  R-squared:         </th> <td>   0.991</td> \n",
       "</tr>\n",
       "<tr>\n",
       "  <th>Model:</th>                   <td>OLS</td>       <th>  Adj. R-squared:    </th> <td>   0.991</td> \n",
       "</tr>\n",
       "<tr>\n",
       "  <th>Method:</th>             <td>Least Squares</td>  <th>  F-statistic:       </th> <td>   7286.</td> \n",
       "</tr>\n",
       "<tr>\n",
       "  <th>Date:</th>             <td>Sun, 11 Feb 2024</td> <th>  Prob (F-statistic):</th> <td>1.42e-132</td>\n",
       "</tr>\n",
       "<tr>\n",
       "  <th>Time:</th>                 <td>11:27:35</td>     <th>  Log-Likelihood:    </th> <td>  1047.6</td> \n",
       "</tr>\n",
       "<tr>\n",
       "  <th>No. Observations:</th>      <td>   131</td>      <th>  AIC:               </th> <td>  -2089.</td> \n",
       "</tr>\n",
       "<tr>\n",
       "  <th>Df Residuals:</th>          <td>   128</td>      <th>  BIC:               </th> <td>  -2081.</td> \n",
       "</tr>\n",
       "<tr>\n",
       "  <th>Df Model:</th>              <td>     2</td>      <th>                     </th>     <td> </td>    \n",
       "</tr>\n",
       "<tr>\n",
       "  <th>Covariance Type:</th>      <td>nonrobust</td>    <th>                     </th>     <td> </td>    \n",
       "</tr>\n",
       "</table>\n",
       "<table class=\"simpletable\">\n",
       "<tr>\n",
       "    <td></td>       <th>coef</th>     <th>std err</th>      <th>t</th>      <th>P>|t|</th>  <th>[0.025</th>    <th>0.975]</th>  \n",
       "</tr>\n",
       "<tr>\n",
       "  <th>const</th> <td>    0.1513</td> <td>    0.003</td> <td>   43.830</td> <td> 0.000</td> <td>    0.144</td> <td>    0.158</td>\n",
       "</tr>\n",
       "<tr>\n",
       "  <th>x1</th>    <td>   -0.0005</td> <td>    0.000</td> <td>   -2.565</td> <td> 0.011</td> <td>   -0.001</td> <td>   -0.000</td>\n",
       "</tr>\n",
       "<tr>\n",
       "  <th>x2</th>    <td>    0.0193</td> <td>    0.001</td> <td>   34.342</td> <td> 0.000</td> <td>    0.018</td> <td>    0.020</td>\n",
       "</tr>\n",
       "</table>\n",
       "<table class=\"simpletable\">\n",
       "<tr>\n",
       "  <th>Omnibus:</th>       <td> 6.039</td> <th>  Durbin-Watson:     </th> <td>   0.366</td>\n",
       "</tr>\n",
       "<tr>\n",
       "  <th>Prob(Omnibus):</th> <td> 0.049</td> <th>  Jarque-Bera (JB):  </th> <td>   6.151</td>\n",
       "</tr>\n",
       "<tr>\n",
       "  <th>Skew:</th>          <td>-0.502</td> <th>  Prob(JB):          </th> <td>  0.0462</td>\n",
       "</tr>\n",
       "<tr>\n",
       "  <th>Kurtosis:</th>      <td> 2.656</td> <th>  Cond. No.          </th> <td>4.34e+03</td>\n",
       "</tr>\n",
       "</table><br/><br/>Notes:<br/>[1] Standard Errors assume that the covariance matrix of the errors is correctly specified.<br/>[2] The condition number is large, 4.34e+03. This might indicate that there are<br/>strong multicollinearity or other numerical problems."
      ],
      "text/latex": [
       "\\begin{center}\n",
       "\\begin{tabular}{lclc}\n",
       "\\toprule\n",
       "\\textbf{Dep. Variable:}    &       ret        & \\textbf{  R-squared:         } &     0.991   \\\\\n",
       "\\textbf{Model:}            &       OLS        & \\textbf{  Adj. R-squared:    } &     0.991   \\\\\n",
       "\\textbf{Method:}           &  Least Squares   & \\textbf{  F-statistic:       } &     7286.   \\\\\n",
       "\\textbf{Date:}             & Sun, 11 Feb 2024 & \\textbf{  Prob (F-statistic):} & 1.42e-132   \\\\\n",
       "\\textbf{Time:}             &     11:27:35     & \\textbf{  Log-Likelihood:    } &    1047.6   \\\\\n",
       "\\textbf{No. Observations:} &         131      & \\textbf{  AIC:               } &    -2089.   \\\\\n",
       "\\textbf{Df Residuals:}     &         128      & \\textbf{  BIC:               } &    -2081.   \\\\\n",
       "\\textbf{Df Model:}         &           2      & \\textbf{                     } &             \\\\\n",
       "\\textbf{Covariance Type:}  &    nonrobust     & \\textbf{                     } &             \\\\\n",
       "\\bottomrule\n",
       "\\end{tabular}\n",
       "\\begin{tabular}{lcccccc}\n",
       "               & \\textbf{coef} & \\textbf{std err} & \\textbf{t} & \\textbf{P$> |$t$|$} & \\textbf{[0.025} & \\textbf{0.975]}  \\\\\n",
       "\\midrule\n",
       "\\textbf{const} &       0.1513  &        0.003     &    43.830  &         0.000        &        0.144    &        0.158     \\\\\n",
       "\\textbf{x1}    &      -0.0005  &        0.000     &    -2.565  &         0.011        &       -0.001    &       -0.000     \\\\\n",
       "\\textbf{x2}    &       0.0193  &        0.001     &    34.342  &         0.000        &        0.018    &        0.020     \\\\\n",
       "\\bottomrule\n",
       "\\end{tabular}\n",
       "\\begin{tabular}{lclc}\n",
       "\\textbf{Omnibus:}       &  6.039 & \\textbf{  Durbin-Watson:     } &    0.366  \\\\\n",
       "\\textbf{Prob(Omnibus):} &  0.049 & \\textbf{  Jarque-Bera (JB):  } &    6.151  \\\\\n",
       "\\textbf{Skew:}          & -0.502 & \\textbf{  Prob(JB):          } &   0.0462  \\\\\n",
       "\\textbf{Kurtosis:}      &  2.656 & \\textbf{  Cond. No.          } & 4.34e+03  \\\\\n",
       "\\bottomrule\n",
       "\\end{tabular}\n",
       "%\\caption{OLS Regression Results}\n",
       "\\end{center}\n",
       "\n",
       "Notes: \\newline\n",
       " [1] Standard Errors assume that the covariance matrix of the errors is correctly specified. \\newline\n",
       " [2] The condition number is large, 4.34e+03. This might indicate that there are \\newline\n",
       " strong multicollinearity or other numerical problems."
      ],
      "text/plain": [
       "<class 'statsmodels.iolib.summary.Summary'>\n",
       "\"\"\"\n",
       "                            OLS Regression Results                            \n",
       "==============================================================================\n",
       "Dep. Variable:                    ret   R-squared:                       0.991\n",
       "Model:                            OLS   Adj. R-squared:                  0.991\n",
       "Method:                 Least Squares   F-statistic:                     7286.\n",
       "Date:                Sun, 11 Feb 2024   Prob (F-statistic):          1.42e-132\n",
       "Time:                        11:27:35   Log-Likelihood:                 1047.6\n",
       "No. Observations:                 131   AIC:                            -2089.\n",
       "Df Residuals:                     128   BIC:                            -2081.\n",
       "Df Model:                           2                                         \n",
       "Covariance Type:            nonrobust                                         \n",
       "==============================================================================\n",
       "                 coef    std err          t      P>|t|      [0.025      0.975]\n",
       "------------------------------------------------------------------------------\n",
       "const          0.1513      0.003     43.830      0.000       0.144       0.158\n",
       "x1            -0.0005      0.000     -2.565      0.011      -0.001      -0.000\n",
       "x2             0.0193      0.001     34.342      0.000       0.018       0.020\n",
       "==============================================================================\n",
       "Omnibus:                        6.039   Durbin-Watson:                   0.366\n",
       "Prob(Omnibus):                  0.049   Jarque-Bera (JB):                6.151\n",
       "Skew:                          -0.502   Prob(JB):                       0.0462\n",
       "Kurtosis:                       2.656   Cond. No.                     4.34e+03\n",
       "==============================================================================\n",
       "\n",
       "Notes:\n",
       "[1] Standard Errors assume that the covariance matrix of the errors is correctly specified.\n",
       "[2] The condition number is large, 4.34e+03. This might indicate that there are\n",
       "strong multicollinearity or other numerical problems.\n",
       "\"\"\""
      ]
     },
     "execution_count": 48,
     "metadata": {},
     "output_type": "execute_result"
    }
   ],
   "source": [
    "res.summary()"
   ]
  },
  {
   "cell_type": "code",
   "execution_count": 49,
   "id": "5e995c30-db37-4888-b888-56f9f4b294d7",
   "metadata": {},
   "outputs": [],
   "source": [
    "res.save(\"RETTHRESVOL_Original.pickle\")"
   ]
  },
  {
   "cell_type": "code",
   "execution_count": 50,
   "id": "3199788e-9c52-4328-888c-93720a453576",
   "metadata": {},
   "outputs": [],
   "source": [
    "s=0.007\n",
    "e=0.012\n",
    "y=vol_ndc_df.loc[(vol_ndc_df.index>s)&(vol_ndc_df.index<e)]['ndc']\n",
    "y=[np.mean(i) for i in np.array(y)]\n",
    "y=np.log(y)\n",
    "x1=np.log(vol_ret_df.loc[(vol_ret_df.index>s)&(vol_ret_df.index<e)].index)\n",
    "x2=np.log(vol_ret_df.loc[(vol_ret_df.index>s)&(vol_ret_df.index<e)]['vol'])\n",
    "x = np.concatenate([[x1],[x2]]).T\n",
    "x_1 = sm.add_constant(x)\n",
    "mod = sm.OLS(y, x_1)\n",
    "res=mod.fit()"
   ]
  },
  {
   "cell_type": "code",
   "execution_count": 51,
   "id": "d0f74387-9fc8-411c-8604-33ba646e8931",
   "metadata": {},
   "outputs": [
    {
     "data": {
      "text/html": [
       "<table class=\"simpletable\">\n",
       "<caption>OLS Regression Results</caption>\n",
       "<tr>\n",
       "  <th>Dep. Variable:</th>            <td>y</td>        <th>  R-squared:         </th> <td>   0.997</td> \n",
       "</tr>\n",
       "<tr>\n",
       "  <th>Model:</th>                   <td>OLS</td>       <th>  Adj. R-squared:    </th> <td>   0.997</td> \n",
       "</tr>\n",
       "<tr>\n",
       "  <th>Method:</th>             <td>Least Squares</td>  <th>  F-statistic:       </th> <td>2.048e+04</td>\n",
       "</tr>\n",
       "<tr>\n",
       "  <th>Date:</th>             <td>Sun, 11 Feb 2024</td> <th>  Prob (F-statistic):</th> <td>3.78e-161</td>\n",
       "</tr>\n",
       "<tr>\n",
       "  <th>Time:</th>                 <td>11:27:35</td>     <th>  Log-Likelihood:    </th> <td>  395.28</td> \n",
       "</tr>\n",
       "<tr>\n",
       "  <th>No. Observations:</th>      <td>   131</td>      <th>  AIC:               </th> <td>  -784.6</td> \n",
       "</tr>\n",
       "<tr>\n",
       "  <th>Df Residuals:</th>          <td>   128</td>      <th>  BIC:               </th> <td>  -775.9</td> \n",
       "</tr>\n",
       "<tr>\n",
       "  <th>Df Model:</th>              <td>     2</td>      <th>                     </th>     <td> </td>    \n",
       "</tr>\n",
       "<tr>\n",
       "  <th>Covariance Type:</th>      <td>nonrobust</td>    <th>                     </th>     <td> </td>    \n",
       "</tr>\n",
       "</table>\n",
       "<table class=\"simpletable\">\n",
       "<tr>\n",
       "    <td></td>       <th>coef</th>     <th>std err</th>      <th>t</th>      <th>P>|t|</th>  <th>[0.025</th>    <th>0.975]</th>  \n",
       "</tr>\n",
       "<tr>\n",
       "  <th>const</th> <td>   -9.0941</td> <td>    0.502</td> <td>  -18.112</td> <td> 0.000</td> <td>  -10.088</td> <td>   -8.101</td>\n",
       "</tr>\n",
       "<tr>\n",
       "  <th>x1</th>    <td>   -1.1934</td> <td>    0.026</td> <td>  -46.446</td> <td> 0.000</td> <td>   -1.244</td> <td>   -1.143</td>\n",
       "</tr>\n",
       "<tr>\n",
       "  <th>x2</th>    <td>   -0.5911</td> <td>    0.082</td> <td>   -7.223</td> <td> 0.000</td> <td>   -0.753</td> <td>   -0.429</td>\n",
       "</tr>\n",
       "</table>\n",
       "<table class=\"simpletable\">\n",
       "<tr>\n",
       "  <th>Omnibus:</th>       <td> 6.619</td> <th>  Durbin-Watson:     </th> <td>   0.144</td>\n",
       "</tr>\n",
       "<tr>\n",
       "  <th>Prob(Omnibus):</th> <td> 0.037</td> <th>  Jarque-Bera (JB):  </th> <td>   6.871</td>\n",
       "</tr>\n",
       "<tr>\n",
       "  <th>Skew:</th>          <td>-0.544</td> <th>  Prob(JB):          </th> <td>  0.0322</td>\n",
       "</tr>\n",
       "<tr>\n",
       "  <th>Kurtosis:</th>      <td> 2.726</td> <th>  Cond. No.          </th> <td>4.34e+03</td>\n",
       "</tr>\n",
       "</table><br/><br/>Notes:<br/>[1] Standard Errors assume that the covariance matrix of the errors is correctly specified.<br/>[2] The condition number is large, 4.34e+03. This might indicate that there are<br/>strong multicollinearity or other numerical problems."
      ],
      "text/latex": [
       "\\begin{center}\n",
       "\\begin{tabular}{lclc}\n",
       "\\toprule\n",
       "\\textbf{Dep. Variable:}    &        y         & \\textbf{  R-squared:         } &     0.997   \\\\\n",
       "\\textbf{Model:}            &       OLS        & \\textbf{  Adj. R-squared:    } &     0.997   \\\\\n",
       "\\textbf{Method:}           &  Least Squares   & \\textbf{  F-statistic:       } & 2.048e+04   \\\\\n",
       "\\textbf{Date:}             & Sun, 11 Feb 2024 & \\textbf{  Prob (F-statistic):} & 3.78e-161   \\\\\n",
       "\\textbf{Time:}             &     11:27:35     & \\textbf{  Log-Likelihood:    } &    395.28   \\\\\n",
       "\\textbf{No. Observations:} &         131      & \\textbf{  AIC:               } &    -784.6   \\\\\n",
       "\\textbf{Df Residuals:}     &         128      & \\textbf{  BIC:               } &    -775.9   \\\\\n",
       "\\textbf{Df Model:}         &           2      & \\textbf{                     } &             \\\\\n",
       "\\textbf{Covariance Type:}  &    nonrobust     & \\textbf{                     } &             \\\\\n",
       "\\bottomrule\n",
       "\\end{tabular}\n",
       "\\begin{tabular}{lcccccc}\n",
       "               & \\textbf{coef} & \\textbf{std err} & \\textbf{t} & \\textbf{P$> |$t$|$} & \\textbf{[0.025} & \\textbf{0.975]}  \\\\\n",
       "\\midrule\n",
       "\\textbf{const} &      -9.0941  &        0.502     &   -18.112  &         0.000        &      -10.088    &       -8.101     \\\\\n",
       "\\textbf{x1}    &      -1.1934  &        0.026     &   -46.446  &         0.000        &       -1.244    &       -1.143     \\\\\n",
       "\\textbf{x2}    &      -0.5911  &        0.082     &    -7.223  &         0.000        &       -0.753    &       -0.429     \\\\\n",
       "\\bottomrule\n",
       "\\end{tabular}\n",
       "\\begin{tabular}{lclc}\n",
       "\\textbf{Omnibus:}       &  6.619 & \\textbf{  Durbin-Watson:     } &    0.144  \\\\\n",
       "\\textbf{Prob(Omnibus):} &  0.037 & \\textbf{  Jarque-Bera (JB):  } &    6.871  \\\\\n",
       "\\textbf{Skew:}          & -0.544 & \\textbf{  Prob(JB):          } &   0.0322  \\\\\n",
       "\\textbf{Kurtosis:}      &  2.726 & \\textbf{  Cond. No.          } & 4.34e+03  \\\\\n",
       "\\bottomrule\n",
       "\\end{tabular}\n",
       "%\\caption{OLS Regression Results}\n",
       "\\end{center}\n",
       "\n",
       "Notes: \\newline\n",
       " [1] Standard Errors assume that the covariance matrix of the errors is correctly specified. \\newline\n",
       " [2] The condition number is large, 4.34e+03. This might indicate that there are \\newline\n",
       " strong multicollinearity or other numerical problems."
      ],
      "text/plain": [
       "<class 'statsmodels.iolib.summary.Summary'>\n",
       "\"\"\"\n",
       "                            OLS Regression Results                            \n",
       "==============================================================================\n",
       "Dep. Variable:                      y   R-squared:                       0.997\n",
       "Model:                            OLS   Adj. R-squared:                  0.997\n",
       "Method:                 Least Squares   F-statistic:                 2.048e+04\n",
       "Date:                Sun, 11 Feb 2024   Prob (F-statistic):          3.78e-161\n",
       "Time:                        11:27:35   Log-Likelihood:                 395.28\n",
       "No. Observations:                 131   AIC:                            -784.6\n",
       "Df Residuals:                     128   BIC:                            -775.9\n",
       "Df Model:                           2                                         \n",
       "Covariance Type:            nonrobust                                         \n",
       "==============================================================================\n",
       "                 coef    std err          t      P>|t|      [0.025      0.975]\n",
       "------------------------------------------------------------------------------\n",
       "const         -9.0941      0.502    -18.112      0.000     -10.088      -8.101\n",
       "x1            -1.1934      0.026    -46.446      0.000      -1.244      -1.143\n",
       "x2            -0.5911      0.082     -7.223      0.000      -0.753      -0.429\n",
       "==============================================================================\n",
       "Omnibus:                        6.619   Durbin-Watson:                   0.144\n",
       "Prob(Omnibus):                  0.037   Jarque-Bera (JB):                6.871\n",
       "Skew:                          -0.544   Prob(JB):                       0.0322\n",
       "Kurtosis:                       2.726   Cond. No.                     4.34e+03\n",
       "==============================================================================\n",
       "\n",
       "Notes:\n",
       "[1] Standard Errors assume that the covariance matrix of the errors is correctly specified.\n",
       "[2] The condition number is large, 4.34e+03. This might indicate that there are\n",
       "strong multicollinearity or other numerical problems.\n",
       "\"\"\""
      ]
     },
     "execution_count": 51,
     "metadata": {},
     "output_type": "execute_result"
    }
   ],
   "source": [
    "res.summary()"
   ]
  },
  {
   "cell_type": "code",
   "execution_count": 52,
   "id": "d94a2313-a0d0-4011-a154-aa64853fa7bb",
   "metadata": {},
   "outputs": [],
   "source": [
    "res.save(\"NDCTHRESVOL_Original.pickle\")"
   ]
  },
  {
   "cell_type": "code",
   "execution_count": null,
   "id": "af9d23c3-f03d-4aae-ac77-82c5b0b060e0",
   "metadata": {},
   "outputs": [],
   "source": []
  }
 ],
 "metadata": {
  "kernelspec": {
   "display_name": "Python 3 (ipykernel)",
   "language": "python",
   "name": "python3"
  },
  "language_info": {
   "codemirror_mode": {
    "name": "ipython",
    "version": 3
   },
   "file_extension": ".py",
   "mimetype": "text/x-python",
   "name": "python",
   "nbconvert_exporter": "python",
   "pygments_lexer": "ipython3",
   "version": "3.10.13"
  }
 },
 "nbformat": 4,
 "nbformat_minor": 5
}
